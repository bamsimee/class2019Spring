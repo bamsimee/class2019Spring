{
 "cells": [
  {
   "cell_type": "code",
   "execution_count": 1,
   "metadata": {},
   "outputs": [],
   "source": [
    "import nltk"
   ]
  },
  {
   "cell_type": "code",
   "execution_count": 2,
   "metadata": {},
   "outputs": [],
   "source": [
    "raw = \"\"\"DENNIS: Listen, strange women lying in ponds distributing swords\n",
    "... is no basis for a system of government.  Supreme executive power derives from\n",
    "... a mandate from the masses, not from some farcical aquatic ceremony.\"\"\""
   ]
  },
  {
   "cell_type": "markdown",
   "metadata": {},
   "source": [
    "#### nltk패키지를 불러오고 raw를 하나의 긴 str로 정의한다."
   ]
  },
  {
   "cell_type": "code",
   "execution_count": 3,
   "metadata": {
    "scrolled": true
   },
   "outputs": [
    {
     "data": {
      "text/plain": [
       "list"
      ]
     },
     "execution_count": 3,
     "metadata": {},
     "output_type": "execute_result"
    }
   ],
   "source": [
    "# tokenize\n",
    "tokens = nltk.word_tokenize(raw)\n",
    "type(tokens)"
   ]
  },
  {
   "cell_type": "markdown",
   "metadata": {},
   "source": [
    "#### split을 써도 되지만 문장부호 등도 분리하기 위해서 word_tokenize()함수를 사용한다. type은 list이다."
   ]
  },
  {
   "cell_type": "code",
   "execution_count": 5,
   "metadata": {},
   "outputs": [
    {
     "name": "stdout",
     "output_type": "stream",
     "text": [
      "['denni', ':', 'listen', ',', 'strang', 'women', 'lie', 'in', 'pond', 'distribut', 'sword', 'is', 'no', 'basi', 'for', 'a', 'system', 'of', 'govern', '.', 'suprem', 'execut', 'power', 'deriv', 'from', 'a', 'mandat', 'from', 'the', 'mass', ',', 'not', 'from', 'some', 'farcic', 'aquat', 'ceremoni', '.']\n"
     ]
    }
   ],
   "source": [
    "# stemming\n",
    "porter = nltk.PorterStemmer()\n",
    "print([porter.stem(t) for t in tokens])"
   ]
  },
  {
   "cell_type": "markdown",
   "metadata": {},
   "source": [
    "#### stemming을 하는 stemmer가 nltk 속에 몇 개가 있는데 여기서는 PorterStemmer()를 사용하였다. stemming은 어간추출이라는 뜻으로 활용형 등 여러가지 형태로 쓰인 단어의 어간을 추출하는 것이다. 변화된 단어의 접미사나 어미를 제거하여 형태소의 기본형을 찾는 방법이다.\n",
    "#### nltk.PorterStemmer()함수를 porter라는 변수에 저장하고 이를 이용하여 list를 출력한다. tokens리스트를 t로 받아서 for loop를 돌린다. 각 t에 대해서 porter로 정의한 PorterStemmer()함수를 돌려서 list에 저장한 후 출력한다. 함수에 input하는 객체의 형태는 stem()가 된다.\n",
    "#### 출력 값을 보면 동사의 경우에는 비교적 어간(원형)을 잘 찾지만 몇몇 동사와 명사의 경우에는 정확도가 낮음을 알 수 있다. Dennis라는 이름에서 s를 복수형 어미로 착각하고 잘라주었고 맨 뒤의 ceremony의 경우에도 ceremoni라고 어간을 잘못 추출하였다."
   ]
  },
  {
   "cell_type": "code",
   "execution_count": 18,
   "metadata": {},
   "outputs": [
    {
     "name": "stdout",
     "output_type": "stream",
     "text": [
      "['den', ':', 'list', ',', 'strange', 'wom', 'lying', 'in', 'pond', 'distribut', 'sword', 'is', 'no', 'bas', 'for', 'a', 'system', 'of', 'govern', '.', 'suprem', 'execut', 'pow', 'der', 'from', 'a', 'mand', 'from', 'the', 'mass', ',', 'not', 'from', 'som', 'farc', 'aqu', 'ceremony', '.']\n"
     ]
    }
   ],
   "source": [
    "# stemming\n",
    "lancaster = nltk.LancasterStemmer()\n",
    "print([lancaster.stem(t) for t in tokens])"
   ]
  },
  {
   "cell_type": "markdown",
   "metadata": {},
   "source": [
    "#### LanacasterStemmer를 이용하여 같은 방법으로 stemming을 한다. \n",
    "#### 결과값을 보았을 때 PorterStemmer가 잘못 잘랐던 ceremony는 잘 잘랐지만 Dennis는 Den으로, woman을 wom으로 자르는 등 정확도가 높지 않다. 따라서 유용하다고 하기 힘들다."
   ]
  },
  {
   "cell_type": "code",
   "execution_count": 6,
   "metadata": {},
   "outputs": [
    {
     "name": "stdout",
     "output_type": "stream",
     "text": [
      "['DENNIS', ':', 'Listen', ',', 'strange', 'woman', 'lying', 'in', 'pond', 'distributing', 'sword', 'is', 'no', 'basis', 'for', 'a', 'system', 'of', 'government', '.', 'Supreme', 'executive', 'power', 'derives', 'from', 'a', 'mandate', 'from', 'the', 'mass', ',', 'not', 'from', 'some', 'farcical', 'aquatic', 'ceremony', '.']\n"
     ]
    }
   ],
   "source": [
    "# lemmatize\n",
    "wnl = nltk.WordNetLemmatizer()\n",
    "print([wnl.lemmatize(t) for t in tokens])"
   ]
  },
  {
   "cell_type": "markdown",
   "metadata": {},
   "source": [
    "#### lemmentizing은 원형복원이라는 뜻으로 WordNetLemmantizer()기능을 이용하여 같은 의미를 가지는 여러 단어를 사전형으로 통일하는 작업을 한다.\n",
    "#### WordNetLemmantizer()함수를 wnl에 정의하고 사용할 때는 함수.lemmatize(대상)의 형태로 사용한다. tokens리스트의 요소들을 t로 받아서 함수를 적용한 후 출력한다.\n",
    "#### DENNIS라는 이름이 원형을 보존했고, women이 woman으로 원형이 잘 잡혔다. lying, distributing모두 ing형을 그대로 유지하면서 원형으로 잘리지 못했다. derives도 -s형을 유지하면서 원형으로 잘리지 않았다."
   ]
  },
  {
   "cell_type": "code",
   "execution_count": 31,
   "metadata": {},
   "outputs": [
    {
     "name": "stdout",
     "output_type": "stream",
     "text": [
      "\"approaches\"\n",
      "approach approach approach\n",
      "\"goals\"\n",
      "goal goal goal\n",
      "\"lemmatizer\"\n",
      "lemmat lem lemmatizer\n",
      "\"stemming\"\n",
      "stem stem stemming\n",
      "\"differentiation\"\n",
      "differenti differenty differentiation\n",
      "\"manufacturer\"\n",
      "manufactur manufact manufacturer\n",
      "\"Elizabeth\"\n",
      "elizabeth elizabe Elizabeth\n",
      "\"prettier\"\n",
      "prettier pretty prettier\n"
     ]
    }
   ],
   "source": [
    "s=['approaches','goals','lemmatizer','stemming','differentiation','manufacturer','Elizabeth','prettier']\n",
    "for t in s:\n",
    "    a=nltk.PorterStemmer().stem(t)\n",
    "    b=nltk.LancasterStemmer().stem(t)\n",
    "    c=nltk.WordNetLemmatizer().lemmatize(t)\n",
    "    print('\"'+t+'\"')\n",
    "    print(a,b,c)\n"
   ]
  },
  {
   "cell_type": "markdown",
   "metadata": {},
   "source": [
    "#### s에 단어 list를 만들고 각각에 대해 PortarStemmer, LancasterStemmer, WordNetLemmatizer함수를 적용시켜주었다.\n",
    "#### 결과값은 각 함수 순서대로 나열되어있다. 위의 문장으로 살펴봤던 예시와하나하나 살펴볼 수 있겠지만 대략적으로 PorterStemmer는 단어의 맨 뒤에 오는 -e나 -s, -er등 짧고 정형화된 어미의 형태가 보이면 단순히 삭제하는 경향이 있다. LancasterStemmer는 어간을 가장 짧고 단순화하여 잡아내는 경향이 있다. 위에서도 women을 wom으로 잡거나 basis를 bas라고 잡는 것을 볼 수 있다. Lemmantizer는 셋 중 가장 단어의 원형을 잘 잡아내고 -ing형이나 -tion 명사형 어미 등을 그대로 보존하는 경향이 있다."
   ]
  }
 ],
 "metadata": {
  "kernelspec": {
   "display_name": "Python 3",
   "language": "python",
   "name": "python3"
  },
  "language_info": {
   "codemirror_mode": {
    "name": "ipython",
    "version": 3
   },
   "file_extension": ".py",
   "mimetype": "text/x-python",
   "name": "python",
   "nbconvert_exporter": "python",
   "pygments_lexer": "ipython3",
   "version": "3.7.1"
  }
 },
 "nbformat": 4,
 "nbformat_minor": 2
}
