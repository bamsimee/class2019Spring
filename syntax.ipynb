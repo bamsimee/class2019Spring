{
 "cells": [
  {
   "cell_type": "markdown",
   "metadata": {},
   "source": [
    "# 3/12 수업 - syntax"
   ]
  },
  {
   "cell_type": "code",
   "execution_count": 29,
   "metadata": {},
   "outputs": [
    {
     "name": "stdout",
     "output_type": "stream",
     "text": [
      "1\n",
      "2\n",
      "3\n",
      "4\n"
     ]
    }
   ],
   "source": [
    "a=[1,2,3,4]\n",
    "for i in a:\n",
    "    print(i)"
   ]
  },
  {
   "cell_type": "markdown",
   "metadata": {},
   "source": [
    "#### for에 의해 list a에서 variable을 뽑아 i에 지정하고, indented된 for문의 내용에 의해 1부터 4까지 반복하면서 출력한다."
   ]
  },
  {
   "cell_type": "code",
   "execution_count": 30,
   "metadata": {},
   "outputs": [
    {
     "name": "stdout",
     "output_type": "stream",
     "text": [
      "1\n",
      "2\n",
      "3\n",
      "4\n"
     ]
    }
   ],
   "source": [
    "a=[1,2,3,4]\n",
    "for i in range(len(a)):\n",
    "    print(a[i])"
   ]
  },
  {
   "cell_type": "markdown",
   "metadata": {},
   "source": [
    "#### len함수는 list의 variable개수를 주는 함수이다. range함수는 index값을 가진다. 괄호 안의 수 미만의 index값을 가진다.\n",
    "* #### 여기서는 len(a)=4이므로 range(4)가 되어 그 값은 0,1,2,3이 되고 각 값을 i에 지정한다. 이어서 a의 i번째(index)를 출력하므로 1,2,3,4을 출력한다. "
   ]
  },
  {
   "cell_type": "code",
   "execution_count": 31,
   "metadata": {},
   "outputs": [
    {
     "name": "stdout",
     "output_type": "stream",
     "text": [
      "red\n",
      "green\n",
      "blue\n",
      "purple\n"
     ]
    }
   ],
   "source": [
    "a=['red','green','blue','purple']\n",
    "for i in a:\n",
    "    print(i)"
   ]
  },
  {
   "cell_type": "markdown",
   "metadata": {},
   "source": [
    "#### 위의 a는 숫자가 들어간 list였다면, 이번에는 a의 class는 string이다. string은 ''를 이용해 문자를 variable로 이용하고 list와 같이 for문이 적용된다."
   ]
  },
  {
   "cell_type": "code",
   "execution_count": 32,
   "metadata": {},
   "outputs": [
    {
     "name": "stdout",
     "output_type": "stream",
     "text": [
      "red\n",
      "green\n",
      "blue\n",
      "purple\n"
     ]
    }
   ],
   "source": [
    "a=['red','green','blue','purple']\n",
    "for i in range(len(a)):\n",
    "    print(a[i])"
   ]
  },
  {
   "cell_type": "markdown",
   "metadata": {},
   "source": [
    "#### len함수는 list에서와 똑같이 str에서 작동한다.\n",
    "  * len(a)=4이므로 range(4)에 의해 i는 0,1,2,3의 값을 받는다.list a의 0,1,2,3번째 값을 출력한다.\n",
    "  * 위의 방법처럼  각 변수를 i에 지정하고 i를 직접 출력하는 방법과, list와 str의 index를 이용하여 출력하는 방법은 정확히 같은 결과를 출력한다."
   ]
  },
  {
   "cell_type": "code",
   "execution_count": 33,
   "metadata": {},
   "outputs": [
    {
     "name": "stdout",
     "output_type": "stream",
     "text": [
      "red:20.0%\n",
      "green:30.0%\n",
      "blue:10.0%\n",
      "purple:40.0%\n"
     ]
    }
   ],
   "source": [
    "a=['red','green','blue','purple']\n",
    "b=[0.2,0.3,0.1,0.4]\n",
    "for i, a in enumerate(a):\n",
    "    print('{}:{}%'.format(a,b[i]*100))"
   ]
  },
  {
   "cell_type": "markdown",
   "metadata": {},
   "source": [
    "#### enumerate함수는 index와 variable정보를 하나로 묶어준다. i에는 index, a에는 variable자체가 지정된다.\n",
    "#### .format은 미리 서식을 지정하고 나중에 변수를 할당하는 방법으로 .format 뒤의 괄호에 있는 부분이 앞의 {}에 들어가게 된다. \n",
    "* 여기서는 '{a}: {b[i]*100}'의 형태로 출력한다. i는 a의 index로 0,1,2,3값을 가지고 이 값이 b[i]에 쓰여서 각각 0.2,0.3,0.1,0.4의 값을 가진다."
   ]
  },
  {
   "cell_type": "code",
   "execution_count": 34,
   "metadata": {},
   "outputs": [
    {
     "name": "stdout",
     "output_type": "stream",
     "text": [
      "(0, 'red')\n",
      "(1, 'green')\n",
      "(2, 'blue')\n",
      "(3, 'purple')\n"
     ]
    }
   ],
   "source": [
    "a=['red','green','blue','purple']\n",
    "b=[0.2,0.3,0.1,0.4]\n",
    "for i in enumerate(a):\n",
    "    print(i)"
   ]
  },
  {
   "cell_type": "markdown",
   "metadata": {},
   "source": [
    "##### 만약  enumerate함수에서 미지수를 한 개만 이용하면 튜플의 형태(index, variable)로 할당된다."
   ]
  },
  {
   "cell_type": "code",
   "execution_count": 35,
   "metadata": {},
   "outputs": [
    {
     "name": "stdout",
     "output_type": "stream",
     "text": [
      "red: 20.0%\n",
      "green: 30.0%\n",
      "blue: 10.0%\n",
      "purple: 40.0%\n"
     ]
    }
   ],
   "source": [
    "a = [\"red\", \"green\", \"blue\", \"purple\"]\n",
    "b = [0.2, 0.3, 0.1, 0.4]\n",
    "for a_, b_ in zip(a, b):\n",
    "    print(\"{}: {}%\".format(a_, b_*100))"
   ]
  },
  {
   "cell_type": "markdown",
   "metadata": {},
   "source": [
    "#### zip함수는 여러 개의 list에서 같은 index를 가진 요소들을 튜플의 형태로 묶는다.\n",
    "   * 각 튜플의 전자를 a_에, 후자를 b_에 할당하고 .format을 이용하여 출력한다."
   ]
  },
  {
   "cell_type": "code",
   "execution_count": 36,
   "metadata": {},
   "outputs": [
    {
     "name": "stdout",
     "output_type": "stream",
     "text": [
      "0\n"
     ]
    }
   ],
   "source": [
    "a = 0\n",
    "if a == 0:\n",
    "    print(a)\n",
    "else:\n",
    "     print(a+1)"
   ]
  },
  {
   "cell_type": "markdown",
   "metadata": {},
   "source": [
    "#### if함수는 조건문으로서 뒤의 조건에 맞다면 내용이 적용된다. for과 마찬가지로 ':'를 뒤에 써준다. end는 필요 없으며 indentation으로 내용을 적는다.\n",
    "#### else는 조건에 맞지 않을 경우 적용될 내용을 적는다.\n",
    "#### '='은 할당의 의미를 가지고 '=='가 수학의 equal연산자를 의미한다."
   ]
  },
  {
   "cell_type": "code",
   "execution_count": 37,
   "metadata": {},
   "outputs": [
    {
     "name": "stdout",
     "output_type": "stream",
     "text": [
      "3\n",
      "4\n",
      "6\n",
      "8\n"
     ]
    }
   ],
   "source": [
    "for i in range(1, 3):\n",
    "    for j in range(3, 5):\n",
    "        print(i*j)"
   ]
  },
  {
   "cell_type": "markdown",
   "metadata": {},
   "source": [
    "#### 이중 for loop도 가능하다. indentation을 주고 for문을 한 번 더 입력한다. \n",
    "#### range(a,b)는 a(index)부터 b전까지의 index 값을 받는다.\n",
    "* 따라서 i에 1,2값이 입력되고 j에 3,4값이 입력되어 곱해진 값을 출력한다."
   ]
  },
  {
   "cell_type": "code",
   "execution_count": 38,
   "metadata": {},
   "outputs": [
    {
     "name": "stdout",
     "output_type": "stream",
     "text": [
      "4\n",
      "8\n"
     ]
    }
   ],
   "source": [
    "for i in range(1, 3):\n",
    "    for j in range(3, 5):\n",
    "        if j >=4:\n",
    "            print(i*j)"
   ]
  },
  {
   "cell_type": "markdown",
   "metadata": {},
   "source": [
    "#### '>='는 같거나 크다는 조건이다. if문으로 j에 조건을 걸어 결과를 출력한다."
   ]
  },
  {
   "cell_type": "code",
   "execution_count": 39,
   "metadata": {},
   "outputs": [
    {
     "data": {
      "text/plain": [
       "[2, 3, 4]"
      ]
     },
     "execution_count": 39,
     "metadata": {},
     "output_type": "execute_result"
    }
   ],
   "source": [
    "a = [1, 2, 3, 4]\n",
    "b = [i for i in a if i >=2]\n",
    "b"
   ]
  },
  {
   "cell_type": "markdown",
   "metadata": {},
   "source": [
    "#### 위와 같이 if로 i에 조건을 걸어 list b를 정의한다."
   ]
  },
  {
   "cell_type": "code",
   "execution_count": 40,
   "metadata": {},
   "outputs": [
    {
     "data": {
      "text/plain": [
       "['green', 'blue', 'purple']"
      ]
     },
     "execution_count": 40,
     "metadata": {},
     "output_type": "execute_result"
    }
   ],
   "source": [
    "a = ['red', 'green', 'blue', 'purple']\n",
    "b = [i for i in a if len(i) >=4]\n",
    "b"
   ]
  },
  {
   "cell_type": "markdown",
   "metadata": {},
   "source": [
    "#### len함수를 이용하여 str a의 각각의 variable을 받는 i의 알파벳 수로 조건을 걸어 다시 i로 받은 후 list b를 이룬다."
   ]
  }
 ],
 "metadata": {
  "kernelspec": {
   "display_name": "Python 3",
   "language": "python",
   "name": "python3"
  },
  "language_info": {
   "codemirror_mode": {
    "name": "ipython",
    "version": 3
   },
   "file_extension": ".py",
   "mimetype": "text/x-python",
   "name": "python",
   "nbconvert_exporter": "python",
   "pygments_lexer": "ipython3",
   "version": "3.7.1"
  }
 },
 "nbformat": 4,
 "nbformat_minor": 2
}
