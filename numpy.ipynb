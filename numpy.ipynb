{
 "cells": [
  {
   "cell_type": "markdown",
   "metadata": {},
   "source": [
    "# NumPy basics"
   ]
  },
  {
   "cell_type": "markdown",
   "metadata": {},
   "source": [
    "#### numpy는 파이썬에서의 행렬을 의미한다. 파이썬에는 행렬을 받는 모듈이 없어서 따로 numpy라는 틀을 만들어 준 것이다.\n",
    "n by m = row가 n개, column이 m개 있는 직사각형 구조의 행렬."
   ]
  },
  {
   "cell_type": "markdown",
   "metadata": {},
   "source": [
    "## 1. Creation"
   ]
  },
  {
   "cell_type": "code",
   "execution_count": 1,
   "metadata": {},
   "outputs": [],
   "source": [
    "import numpy as np\n",
    "import matplotlib.pyplot as plt"
   ]
  },
  {
   "cell_type": "markdown",
   "metadata": {},
   "source": [
    "#### numpy모듈을 받아주고 plotting을 위해 모듈을 하나 더 불러온다."
   ]
  },
  {
   "cell_type": "code",
   "execution_count": 9,
   "metadata": {},
   "outputs": [
    {
     "data": {
      "text/plain": [
       "array([[-2132575168,         337,           0],\n",
       "       [          0,           1, -2147483648]])"
      ]
     },
     "execution_count": 9,
     "metadata": {},
     "output_type": "execute_result"
    }
   ],
   "source": [
    "np.empty([2,3], dtype='int')"
   ]
  },
  {
   "cell_type": "markdown",
   "metadata": {},
   "source": [
    "#### numpy에는 숫자만 등장한다. 차원이 n by m라면 2차원, n by m by p라면 직육면체 모양의 3차원이 될 것이고 이와 같이 고차원도 표현이 가능할 것이다.\n",
    "#### np의 empty기능은 랜덤숫자가 들어간 행렬을 만든다. 입력값은 [n,m]으로 matrix를 만들어주고 dtype으로 데이터타입을 지정해줄 수 있다. 여기서는 int로 지정했고 float도 가능하다.\n",
    "#### 출력값은 array 속에 list가 들어있는 형태이다. array는 list를 행렬로 만들어준다고 생각하면 된다. 입력값에 list가 있고 그 안에 list가 또 들어간 형태이다. 이것이 np가 만들 수 있는 행렬이 된다. 지금은 2차원이라서 array안에 이중bracket이 들어있는 것이고 하나면 vector가 되며 삼중bracket이 들어있으면 3차원이 될 것이다."
   ]
  },
  {
   "cell_type": "code",
   "execution_count": 10,
   "metadata": {},
   "outputs": [
    {
     "data": {
      "text/plain": [
       "array([[0., 0., 0.],\n",
       "       [0., 0., 0.]])"
      ]
     },
     "execution_count": 10,
     "metadata": {},
     "output_type": "execute_result"
    }
   ],
   "source": [
    "np.zeros([2,3])"
   ]
  },
  {
   "cell_type": "markdown",
   "metadata": {},
   "source": [
    "#### zero([n,m])은 n by m의 행렬을 0으로 채워서 만들어준다."
   ]
  },
  {
   "cell_type": "code",
   "execution_count": 11,
   "metadata": {},
   "outputs": [
    {
     "data": {
      "text/plain": [
       "array([0., 2., 4., 6., 8.])"
      ]
     },
     "execution_count": 11,
     "metadata": {},
     "output_type": "execute_result"
    }
   ],
   "source": [
    "np.arange(0,10,2, dtype='float64')"
   ]
  },
  {
   "cell_type": "markdown",
   "metadata": {},
   "source": [
    "#### arrange()는 숫자를 세 개 받고 dtype을 입력받는다. 첫째 숫자를 포함하고 둘째 숫자를 포함하지 않는 범위에서 셋째 숫자만큼의 increment를 두는 숫자list를 만들게 된다. 여기에서 dtype은 float64로 그냥 float보다 소수점이 훨씬 많이 등장할 수 있는 type이다. 출력값은 float로 되므로 각 일의자리 뒤에 소수점이 찍혀있게된다."
   ]
  },
  {
   "cell_type": "code",
   "execution_count": 23,
   "metadata": {},
   "outputs": [
    {
     "data": {
      "text/plain": [
       "array([ 0.,  2.,  4.,  6.,  8., 10.])"
      ]
     },
     "execution_count": 23,
     "metadata": {},
     "output_type": "execute_result"
    }
   ],
   "source": [
    "np.linspace(0,10,6, dtype=float)"
   ]
  },
  {
   "cell_type": "markdown",
   "metadata": {},
   "source": [
    "#### linspace()도 숫자 세 개와 dtype을 입력받는다. 첫째 숫자를 포함하고 둘째 숫자도 포함하는 범위에서 셋째 숫자만큼 등분한 수를 list로 나열한다. dtype은 float로 지정하였으며 만약에 5등분을 하게 되면 소수점도 등장할 것이다."
   ]
  },
  {
   "cell_type": "code",
   "execution_count": 12,
   "metadata": {},
   "outputs": [
    {
     "data": {
      "text/plain": [
       "[[1, 2, 3], [4, 5, 6]]"
      ]
     },
     "execution_count": 12,
     "metadata": {},
     "output_type": "execute_result"
    }
   ],
   "source": [
    "[[1,2,3],[4,5,6]]"
   ]
  },
  {
   "cell_type": "markdown",
   "metadata": {},
   "source": [
    "#### 리스트 안에 리스트가 들어있는 단순 리스트이다."
   ]
  },
  {
   "cell_type": "code",
   "execution_count": 24,
   "metadata": {},
   "outputs": [
    {
     "data": {
      "text/plain": [
       "array([[1, 2, 3],\n",
       "       [4, 5, 6]])"
      ]
     },
     "execution_count": 24,
     "metadata": {},
     "output_type": "execute_result"
    }
   ],
   "source": [
    "X = np.array([[1,2,3],[4,5,6]])\n",
    "X"
   ]
  },
  {
   "cell_type": "markdown",
   "metadata": {},
   "source": [
    "#### 단순 이중리스트를 array기능을 이용하면 행렬모양으로 바뀐다. "
   ]
  },
  {
   "cell_type": "code",
   "execution_count": 25,
   "metadata": {},
   "outputs": [
    {
     "data": {
      "text/plain": [
       "array([[1., 2., 3.],\n",
       "       [4., 5., 6.]])"
      ]
     },
     "execution_count": 25,
     "metadata": {},
     "output_type": "execute_result"
    }
   ],
   "source": [
    "X.astype(np.float64)"
   ]
  },
  {
   "cell_type": "markdown",
   "metadata": {},
   "source": [
    "#### 위에서 만들어준 행렬X의 type를 바꾸고 싶을 때 astype()을 사용하면 된다. 입력값으로는 np.원하는dtype 을 받는다. np.float64 / np.int 등으로 바꿀 수 있다.\n",
    "#### 파이썬 자체 함수로 int()이나 float()가 있지만 X는 단순 숫자가 아닌 np에서 제공하는 array행렬이기 때문에 통하지 않는다."
   ]
  },
  {
   "cell_type": "code",
   "execution_count": 26,
   "metadata": {},
   "outputs": [
    {
     "data": {
      "text/plain": [
       "array([[0, 0, 0],\n",
       "       [0, 0, 0]])"
      ]
     },
     "execution_count": 26,
     "metadata": {},
     "output_type": "execute_result"
    }
   ],
   "source": [
    "np.zeros_like(X)"
   ]
  },
  {
   "cell_type": "markdown",
   "metadata": {},
   "source": [
    "#### zero_like()은 행렬의 모든 숫자를 0으로 바꿔주는 함수이다."
   ]
  },
  {
   "cell_type": "code",
   "execution_count": 27,
   "metadata": {
    "scrolled": true
   },
   "outputs": [
    {
     "name": "stdout",
     "output_type": "stream",
     "text": [
      "[ 4.04646217e-01  6.25535260e-01  1.21406987e+00  1.00056132e+00\n",
      "  7.56058771e-01  1.99588526e-01  8.98443799e-01  2.34350955e-01\n",
      "  4.89412608e-01 -1.24521981e+00  2.78021682e+00  8.53100668e-02\n",
      "  1.41688289e+00  1.21360217e+00 -2.98596789e-01  6.10433508e-01\n",
      " -8.25687561e-01 -2.04365099e+00 -5.50827305e-01 -5.72463472e-01\n",
      "  5.03598780e-01  2.19494714e+00 -1.00639186e+00 -1.07458218e+00\n",
      "  5.96780421e-02 -4.62314878e-01  1.74277644e-03 -2.38870949e-01\n",
      "  4.53813628e-01 -9.13645175e-02 -3.81065671e-01 -1.84274422e+00\n",
      " -7.75738668e-01 -2.81817666e-01  6.41856190e-01 -9.81728262e-01\n",
      "  5.72777147e-01  1.46978612e-02  1.53267188e-01  6.71004563e-01\n",
      "  8.73254724e-01  1.32776463e+00  1.16105587e+00  1.10455855e+00\n",
      "  2.69380756e-01  5.57722183e-01  1.40035968e+00  1.07294795e+00\n",
      "  8.47165005e-02  2.59685692e-01 -4.20079420e-01  2.59267919e-01\n",
      " -6.20711867e-01  8.02153513e-01  1.33109453e+00  1.57463634e-01\n",
      " -1.63371924e+00 -1.85188773e+00  6.75218368e-01 -1.89444342e-01\n",
      " -4.53553726e-01 -5.65872848e-01  3.91753604e-01 -1.43370295e+00\n",
      "  2.79952257e-01  6.65062646e-01  8.46124521e-01 -1.73035825e+00\n",
      "  8.22189765e-01  1.12928746e+00  8.16684159e-01 -8.77910591e-01\n",
      "  9.34912199e-01 -1.24551526e+00  2.61594518e-01  1.97105099e-01\n",
      "  2.83986593e+00  2.13742162e-01 -8.60859839e-01  5.41398653e-01\n",
      " -3.91810042e-01 -3.27874858e-01 -2.74739568e-01 -8.23911763e-01\n",
      "  3.95380541e-01 -3.55518075e-01  8.30391714e-02  4.52098599e-01\n",
      "  1.42461946e+00  2.12142086e-01 -1.69014827e+00 -1.76116900e+00\n",
      "  1.12273582e+00  1.78725625e+00  1.81788026e+00 -6.88619194e-01\n",
      " -1.27847518e+00 -6.39012846e-01  9.69269310e-01  1.08678875e+00]\n"
     ]
    },
    {
     "data": {
      "image/png": "[encoded data removed]",
      "text/plain": [
       "<Figure size 432x288 with 1 Axes>"
      ]
     },
     "metadata": {
      "needs_background": "light"
     },
     "output_type": "display_data"
    }
   ],
   "source": [
    "data = np.random.normal(0,1, 100)\n",
    "print(data)\n",
    "plt.hist(data, bins=10)\n",
    "plt.show()"
   ]
  },
  {
   "cell_type": "markdown",
   "metadata": {},
   "source": [
    "#### np안에 random안에 normal()기능은 정규분포를 이루는 random number를 만들어준다. 입력값은 숫자 세 개로 첫째 숫자가 min이 되고, 둘째 숫자가 standard deviation이 되는 셋째 숫자만큼의 random number를 만든다. \n",
    "#### 이렇게 만든 100개의 숫자리스트를 data로 받고 맨 위에서 불러왔던 plt패키지의 hist()기능을 이용하여 histogram을 만들 수 있다. hist()의 입력값은 두 개로, 첫째로 숫자리스트를 받고, 둘째로 bins=n를 받아서 histogram으로 보여줄 구간의 수를 정의한다.\n",
    "#### 여기서는 bins가 10개니까 10개의 범위를 정해서 그 범위에 해당하는 data의 숫자의 분포를 histogram으로 보여준다. bin의 개수를 늘리면 더 촘촘한 그래프가 그려질 것이다. 또한 data가 정규분포에 의해 뽑힌 숫자이기 때문에 histogram도 정규분포의 그래프와 비슷하게 그려질 것이다. histogram은 통계 등에서 중요한 plotting이다."
   ]
  },
  {
   "cell_type": "markdown",
   "metadata": {},
   "source": [
    "## 2. Manipulation"
   ]
  },
  {
   "cell_type": "code",
   "execution_count": 32,
   "metadata": {},
   "outputs": [
    {
     "data": {
      "text/plain": [
       "array([[[1., 1., 1., 1.],\n",
       "        [1., 1., 1., 1.],\n",
       "        [1., 1., 1., 1.]],\n",
       "\n",
       "       [[1., 1., 1., 1.],\n",
       "        [1., 1., 1., 1.],\n",
       "        [1., 1., 1., 1.]]])"
      ]
     },
     "execution_count": 32,
     "metadata": {},
     "output_type": "execute_result"
    }
   ],
   "source": [
    "X = np.ones([2,3,4])\n",
    "X"
   ]
  },
  {
   "cell_type": "markdown",
   "metadata": {},
   "source": [
    "#### np의 ones()는 array로 모든 element가 1인 행렬형태를 만들어준다. 대괄호 안에 숫자를 입력하며 고차원 숫자부터 튜플 안에 입력한다. 여기서는 3개의 숫자가 입력되었으므로 3차원의 array가 만들어지며 3by2의 행렬 2개가 3차원을 나타내는 대괄호 3개에 쌓여서 만들어진다.첫 번 째 숫자는 array행렬의 개수(3차원), 둘째는 row의 수, 셋째는 colum의 수를 의미한다.\n",
    "예상문제) 총 element의 수는?"
   ]
  },
  {
   "cell_type": "code",
   "execution_count": 17,
   "metadata": {},
   "outputs": [
    {
     "data": {
      "text/plain": [
       "array([[[1., 1.],\n",
       "        [1., 1.],\n",
       "        [1., 1.]],\n",
       "\n",
       "       [[1., 1.],\n",
       "        [1., 1.],\n",
       "        [1., 1.]],\n",
       "\n",
       "       [[1., 1.],\n",
       "        [1., 1.],\n",
       "        [1., 1.]],\n",
       "\n",
       "       [[1., 1.],\n",
       "        [1., 1.],\n",
       "        [1., 1.]]])"
      ]
     },
     "execution_count": 17,
     "metadata": {},
     "output_type": "execute_result"
    }
   ],
   "source": [
    "Y = X.reshape(-1,3, 2)\n",
    "Y"
   ]
  },
  {
   "cell_type": "markdown",
   "metadata": {},
   "source": [
    "#### reshape()은 np의 행렬에 적용되며 행렬을 reshaping한다. element의 수를 유지하면서 직사각형 모양의 행렬로 reshaping해야하기 때문에 전체 데이터의 크기가 같은 상태에서만 reshape이 가능하다. \n",
    "#### 여기서는 3by2의 array로 reshaping을 하였고 행렬 4개를 구성했는데 3by2를 유지하면서 데이터 수를 맞춰서 array행렬 개수를 자동으로 정하도록 -1을 입력해준 것이다. -1을 입력하면 전체 데이터수를 유지하면서 조건을 맞추도록 자동으로 값이 입력된다. 만약에 가능한 값이 없다면 에러가 난다."
   ]
  },
  {
   "cell_type": "code",
   "execution_count": 18,
   "metadata": {},
   "outputs": [
    {
     "data": {
      "text/plain": [
       "True"
      ]
     },
     "execution_count": 18,
     "metadata": {},
     "output_type": "execute_result"
    }
   ],
   "source": [
    "np.allclose(X.reshape(-1, 3, 2), Y)"
   ]
  },
  {
   "cell_type": "markdown",
   "metadata": {},
   "source": [
    "#### allclose는 두 가지 행렬이 똑같은지 확인해주는 기능을 한다. 여기서는 X를 reshape한 것과 Y가 같은지 확인하였고 True값이 출렸됐다."
   ]
  },
  {
   "cell_type": "code",
   "execution_count": 19,
   "metadata": {},
   "outputs": [],
   "source": [
    "assert np.allclose(X.reshape(-1, 3, 2), Y)"
   ]
  },
  {
   "cell_type": "markdown",
   "metadata": {},
   "source": [
    "#### 위의 allclose와 같은 기능이고 똑같으면 아무것도 나오지 않고, 다르면 error가나온다. \n",
    "#### 위 두 방법은 디버깅할 때 유용하게 쓰인다."
   ]
  },
  {
   "cell_type": "markdown",
   "metadata": {},
   "source": [
    "## 3. NumPy I/O"
   ]
  },
  {
   "cell_type": "markdown",
   "metadata": {},
   "source": [
    "인풋 아웃풋 읽는 법이다. "
   ]
  },
  {
   "cell_type": "code",
   "execution_count": 20,
   "metadata": {},
   "outputs": [
    {
     "data": {
      "text/plain": [
       "(array([[1, 3, 9],\n",
       "        [3, 8, 4]]), array([[0.06292098, 0.52697287, 0.76907901],\n",
       "        [0.12559329, 0.9252345 , 0.98875694]]))"
      ]
     },
     "execution_count": 20,
     "metadata": {},
     "output_type": "execute_result"
    }
   ],
   "source": [
    "a = np.random.randint(0, 10, [2, 3])\n",
    "b = np.random.random([2, 3])\n",
    "np.savez(\"test\", a, b)\n",
    "a,b"
   ]
  },
  {
   "cell_type": "markdown",
   "metadata": {},
   "source": [
    "#### np의 random속 randint()함수는 random integer를 만든다. 첫째 숫자부터 둘째 숫자미만까지의 정수로 대괄호 안에 있는 형태의 행렬을 만든다. 여기서는 0부터 10미만의 수로 2by3의 행렬을 random하게 만드는 것이다. 랜덤이기 때문에 실행할 때마다 숫자가 다르다.\n",
    "#### 그냥 random기능은 0부터 1미만의 랜덤한 숫자로 만든다. 여기서는 2by3를 만든다.\n",
    "#### 이렇게 만든 variable을 저장하고 싶을 때 savez()을 사용한다. 먼저 \"\"안에 str로 filename을 지정하고 저장하고 싶은 variable을 입력하면 된다. random기능으로 만든 variable은 실행할 때마다 랜덤하게 나오니까 저장을 하면 된다. test라는 파일에 a와 b의 값을 저장한 것이다. 작업폴더에 'test'라는 파일이 만들어졌을 것이다.\n",
    "a, b로 콤마로 구분하여 입력하면 a와 b값이 튜플을 이루어서 모두 출력되어 보인다.\n",
    "//예상출제부분."
   ]
  },
  {
   "cell_type": "code",
   "execution_count": 21,
   "metadata": {
    "scrolled": false
   },
   "outputs": [
    {
     "name": "stderr",
     "output_type": "stream",
     "text": [
      "'ls'은(는) 내부 또는 외부 명령, 실행할 수 있는 프로그램, 또는\n",
      "배치 파일이 아닙니다.\n"
     ]
    }
   ],
   "source": [
    "!ls -al test*"
   ]
  },
  {
   "cell_type": "markdown",
   "metadata": {},
   "source": [
    "프로그램 개발회사들에서는 리눅스, 유닉스를 주로 쓰는데 거기서 사용하는 명령어이다. !를 써서 리눅스커멘드를 입력할 수 있다. ls는 폴더에 어떤 파일들이 있는지 보는 기능이다. 뒤에 -al test라고 적었으므로 test라는 폴더를 모두 찾으라는 뜻이다.\n",
    "ms에서는 실행되지 않는다."
   ]
  },
  {
   "cell_type": "code",
   "execution_count": 22,
   "metadata": {},
   "outputs": [
    {
     "name": "stdout",
     "output_type": "stream",
     "text": [
      "X\t Y\t np\t plt\t \n"
     ]
    }
   ],
   "source": [
    "del a,b\n",
    "%who\n",
    "  # Print all interactive variables"
   ]
  },
  {
   "cell_type": "markdown",
   "metadata": {},
   "source": [
    "#### del은 현재 메모리에 저장된 variable을 입력하면 지워준다.\n",
    "#### %who로 현재 메모리에 어떤 variable이 저장되어있는지 확인할 수 있다. 위에서 바로 a와 b를 지웠으므로 지금까지 위에서 저장한 variable들인 X, Y, np, plt가 들어있다."
   ]
  },
  {
   "cell_type": "code",
   "execution_count": 23,
   "metadata": {},
   "outputs": [
    {
     "data": {
      "text/plain": [
       "['arr_0', 'arr_1']"
      ]
     },
     "execution_count": 23,
     "metadata": {},
     "output_type": "execute_result"
    }
   ],
   "source": [
    "npzfiles = np.load(\"test.npz\")\n",
    "npzfiles.files"
   ]
  },
  {
   "cell_type": "markdown",
   "metadata": {},
   "source": [
    "#### 위에서 저장했던 test를 load기능으로 불러온다. files기능을 이용하여 불러온 test파일 안에 어떤 요소가 불러져왔는지 확인할 수 있다. 아까 저장했던 a와 b가 각각 arr_0, arr_1이라는 이름으로 들어온 것을 확인할 수 있다."
   ]
  },
  {
   "cell_type": "code",
   "execution_count": 24,
   "metadata": {},
   "outputs": [
    {
     "data": {
      "text/plain": [
       "array([[1, 3, 9],\n",
       "       [3, 8, 4]])"
      ]
     },
     "execution_count": 24,
     "metadata": {},
     "output_type": "execute_result"
    }
   ],
   "source": [
    "npzfiles['arr_0']"
   ]
  },
  {
   "cell_type": "markdown",
   "metadata": {},
   "source": [
    "#### a가 불러와진다."
   ]
  },
  {
   "cell_type": "code",
   "execution_count": 27,
   "metadata": {
    "scrolled": true
   },
   "outputs": [
    {
     "data": {
      "text/plain": [
       "((17,),\n",
       " array([( 3.3  , 1.7  ), ( 4.4  , 2.76 ), ( 5.5  , 2.09 ), ( 6.71 , 3.19 ),\n",
       "        ( 6.93 , 1.694), ( 4.168, 1.573), ( 9.779, 3.366), ( 6.182, 2.596),\n",
       "        ( 7.59 , 2.53 ), ( 2.167, 1.221), ( 7.042, 2.827), (10.791, 3.465),\n",
       "        ( 5.313, 1.65 ), ( 7.997, 2.904), ( 5.654, 2.42 ), ( 9.27 , 2.94 ),\n",
       "        ( 3.1  , 1.3  )], dtype=[('X', '<f4'), ('Y', '<f4')]))"
      ]
     },
     "execution_count": 27,
     "metadata": {},
     "output_type": "execute_result"
    }
   ],
   "source": [
    "data = np.loadtxt(\"regression.csv\", delimiter=\",\", skiprows=1, dtype={'names':(\"X\", \"Y\"), 'formats':('f', 'f')})\n",
    "data.shape, data"
   ]
  },
  {
   "cell_type": "markdown",
   "metadata": {},
   "source": [
    "#### loadtxt기능으로 text를 불러온다. 미리 저장되어있는 csv파일을 불러온다. loadtxt안에 \"\"로 filename을 적고, delimiter를 적는다. csv파일이므로 delimiter는 ,이다. skiprows로 skip할 row의 번호를 적는다. csv에서 보통 맨 첫줄은 header정보니까 skiprows=1로 입력하여 첫 번째 줄을 skip한다. dtype을 지정하는 것이 중요한데 이는 datatype으로 여기서처럼 'names':('X','Y')로 입력하면 첫 번째 colum을 X로, 두 번째 column을 Y로 받는다. datatype의 'formats'를 :('f','f')로 입력하여 값을 float로 받을 수 있게 한다.\n",
    "#### 이것을 data로 받아서 불러오면 array로 출력이 된다. shape기능을 사용하면 17이 받아지는데 이는 총 17개의 row로 이루어져있다는 것을 의미한다. 튜플 형태로 (X,Y)정보가 들어있다."
   ]
  },
  {
   "cell_type": "code",
   "execution_count": 28,
   "metadata": {},
   "outputs": [],
   "source": [
    "np.savetxt(\"regression_saved.csv\", data, delimiter=\",\")\n",
    "#!ls -al regression_saved.csv"
   ]
  },
  {
   "cell_type": "markdown",
   "metadata": {},
   "source": [
    "#### csv같은 text파일을 저장하고 싶을 때 savetxt기능을 사용하면 된다. \"\"로 저장하고 싶은 파일이름을 적고, 뒤에 저장할 data를 넣고, delimiter를 입력해주면 된다.\n",
    "위에서 나왔던 유닉스명령어를 사용하여 실제로 저장이 됐는지 확인해볼 수 있다."
   ]
  },
  {
   "cell_type": "markdown",
   "metadata": {},
   "source": [
    "## 4. Inspecting"
   ]
  },
  {
   "cell_type": "code",
   "execution_count": 29,
   "metadata": {},
   "outputs": [
    {
     "data": {
      "text/plain": [
       "array([[[9.48578768e-01, 8.93784072e-01, 3.02770779e-01],\n",
       "        [5.34285631e-01, 2.83781080e-01, 2.01835912e-01]],\n",
       "\n",
       "       [[6.29863886e-01, 3.78096330e-01, 3.14064002e-04],\n",
       "        [3.88843085e-01, 8.87133551e-01, 2.55684636e-01]],\n",
       "\n",
       "       [[1.60745622e-01, 5.56561929e-01, 6.33847719e-01],\n",
       "        [4.37218187e-03, 6.85161525e-01, 1.58679396e-01]],\n",
       "\n",
       "       [[8.76435911e-01, 5.48796491e-01, 8.27325353e-01],\n",
       "        [2.93396048e-01, 1.87078931e-01, 3.42599489e-01]],\n",
       "\n",
       "       [[6.14049335e-01, 9.94048962e-01, 8.26546730e-01],\n",
       "        [4.87630045e-01, 9.37423755e-01, 8.20518575e-01]]])"
      ]
     },
     "execution_count": 29,
     "metadata": {},
     "output_type": "execute_result"
    }
   ],
   "source": [
    "arr = np.random.random([5,2,3])\n",
    "arr"
   ]
  },
  {
   "cell_type": "markdown",
   "metadata": {},
   "source": [
    "#### random폴더의 random기능으로 0~1사이의 값으로 2by3를 5개 만든다."
   ]
  },
  {
   "cell_type": "code",
   "execution_count": 30,
   "metadata": {},
   "outputs": [
    {
     "name": "stdout",
     "output_type": "stream",
     "text": [
      "<class 'numpy.ndarray'>\n",
      "5\n",
      "(5, 2, 3)\n",
      "3\n",
      "30\n",
      "float64\n"
     ]
    }
   ],
   "source": [
    "print(type(arr))\n",
    "print(len(arr))\n",
    "print(arr.shape)\n",
    "print(arr.ndim)\n",
    "print(arr.size)\n",
    "print(arr.dtype)"
   ]
  },
  {
   "cell_type": "markdown",
   "metadata": {},
   "source": [
    "#### 이렇게 만들어진 array의 type을 보면 np에서 쓰이는 type으로 나오고(행렬이 아니다). 길이는 들어있는 행렬의 개수가 나온다.\n",
    "#### shape은 총 array의 형태인 5 by 2by 3의 숫자가 튜플로 출력된다. ndim은 차원 값이 나오므로 array의 입력값이 3개이므로 3차원인 3이 출력된다. size는 총 elements의 개수로 5x2x3을 해서 30이 출력된다. dtype은 float64이다."
   ]
  },
  {
   "cell_type": "markdown",
   "metadata": {},
   "source": [
    "## 5. Operations"
   ]
  },
  {
   "cell_type": "markdown",
   "metadata": {},
   "source": [
    "### 5.1 Arithmetic"
   ]
  },
  {
   "cell_type": "code",
   "execution_count": 35,
   "metadata": {},
   "outputs": [
    {
     "data": {
      "text/plain": [
       "(array([1, 2, 3, 4]), array([9, 8, 7, 6]))"
      ]
     },
     "execution_count": 35,
     "metadata": {},
     "output_type": "execute_result"
    }
   ],
   "source": [
    "a = np.arange(1, 5)\n",
    "b = np.arange(9, 5, -1)\n",
    "a,b"
   ]
  },
  {
   "cell_type": "markdown",
   "metadata": {},
   "source": [
    "#### arange로 첫째 숫자는 포함하고 둘째 숫자는 포함하지 않는 범위에서 셋째 숫자의 increment로 1차원 array행렬을 만들어준다. 여기서는 1에서 4까지의 숫자가 나오고 increment는 입력되지 않았기 때문에 default인 1로 계산된다. b에서는 -1의 increment로 9에서 5를 포함하지 않는 범위로 9,8,7,6의 array가 만들어진다."
   ]
  },
  {
   "cell_type": "code",
   "execution_count": 36,
   "metadata": {},
   "outputs": [
    {
     "name": "stdout",
     "output_type": "stream",
     "text": [
      "[-8 -6 -4 -2]\n",
      "[ 9 16 21 24]\n"
     ]
    }
   ],
   "source": [
    "print(a - b)\n",
    "print(a * b)\n"
   ]
  },
  {
   "cell_type": "markdown",
   "metadata": {},
   "source": [
    "#### a와 b가 형태가 같으므로 연산이 가능하다. 곱하기도 가능하며 element by element로 곱해진다.\n",
    "#### 벡터끼리 어떻게 곱해지냐는 의문을 가질 수 있지만 a와 b는 진정한 matrix가 아닌 np의 array이기 때문에 단순계산이 가능하다."
   ]
  },
  {
   "cell_type": "code",
   "execution_count": 37,
   "metadata": {},
   "outputs": [
    {
     "data": {
      "text/plain": [
       "(matrix([[1, 2, 3, 4]]), matrix([[9, 8, 7, 6]]))"
      ]
     },
     "execution_count": 37,
     "metadata": {},
     "output_type": "execute_result"
    }
   ],
   "source": [
    "a = np.matrix(a)\n",
    "b = np.matrix(b)\n",
    "a,b"
   ]
  },
  {
   "cell_type": "markdown",
   "metadata": {},
   "source": [
    "#### a와 b를 진정한 matrix로 바꾸는 기능이다. matrix는 기본적으로 2차원을 이루므로 여기서는 1by4의 matrix가 2개 만들어지며 대괄호가 이중으로 표시된다. 바깥쪽 대괄호가 row정보인 1을 나타내고, 안쪽 대괄호가 4를 의미한다."
   ]
  },
  {
   "cell_type": "code",
   "execution_count": 38,
   "metadata": {},
   "outputs": [
    {
     "data": {
      "text/plain": [
       "matrix([[70]])"
      ]
     },
     "execution_count": 38,
     "metadata": {},
     "output_type": "execute_result"
    }
   ],
   "source": [
    "a * b.T"
   ]
  },
  {
   "cell_type": "markdown",
   "metadata": {},
   "source": [
    "#### 1by4행렬끼리 곱이 불가하니까 둘 중 하나를 T기능을 이용해서 transpose시킨 후 곱해준다.\n",
    "#### 1by4 x 4by1을 하면 안쪽 숫자가 같으니까 곱해지고 바깥쪽 숫자만큼 element가 결과로 나온다. 결과는 70이며 1by1으로 2차원이므로 bracket이 이중이된다."
   ]
  },
  {
   "cell_type": "code",
   "execution_count": 59,
   "metadata": {},
   "outputs": [
    {
     "data": {
      "text/plain": [
       "matrix([[ 9,  8,  7,  6],\n",
       "        [18, 16, 14, 12],\n",
       "        [27, 24, 21, 18],\n",
       "        [36, 32, 28, 24]])"
      ]
     },
     "execution_count": 59,
     "metadata": {},
     "output_type": "execute_result"
    }
   ],
   "source": [
    "a.T * b"
   ]
  },
  {
   "cell_type": "markdown",
   "metadata": {},
   "source": [
    "#### a를 transpose시켜서 곱해주었다. 2차원이라서 이중bracket이 있고, 4by4의 결과값이 나온다."
   ]
  },
  {
   "cell_type": "markdown",
   "metadata": {},
   "source": [
    "### 5.2 Comparison"
   ]
  },
  {
   "cell_type": "code",
   "execution_count": 46,
   "metadata": {},
   "outputs": [
    {
     "name": "stdout",
     "output_type": "stream",
     "text": [
      "[[1 2 3]\n",
      " [4 5 6]\n",
      " [7 8 9]]\n",
      "[[9 8 7]\n",
      " [6 5 4]\n",
      " [3 2 1]]\n"
     ]
    }
   ],
   "source": [
    "a = np.arange(1, 10).reshape(3,3)\n",
    "b = np.arange(9, 0, -1).reshape(3,3)\n",
    "print(a)\n",
    "print(b)"
   ]
  },
  {
   "cell_type": "markdown",
   "metadata": {},
   "source": [
    "#### 1부터 10미만의 정수를 arange를 이용해 나열(1차원)하고, 이를 reshape을 이용해서 3by3의 array행렬(2차원)로 만들어 a를 구성한다. b는 9부터 0초과의 정수를 -1의 increment로 나열하고 3by3으로 reshape한다. \n",
    "만약 reshape(3,1,3)으로 하면 3차원으로 만들어질 것이다."
   ]
  },
  {
   "cell_type": "code",
   "execution_count": 47,
   "metadata": {},
   "outputs": [
    {
     "data": {
      "text/plain": [
       "array([[False, False, False],\n",
       "       [False,  True, False],\n",
       "       [False, False, False]])"
      ]
     },
     "execution_count": 47,
     "metadata": {},
     "output_type": "execute_result"
    }
   ],
   "source": [
    "a == b"
   ]
  },
  {
   "cell_type": "markdown",
   "metadata": {},
   "source": [
    "#### a와 b가 같은지를 확인하는 방법으로  ==를 이용한다. 각 element별로 비교하여 답을 array로 그대로 뱉어준다."
   ]
  },
  {
   "cell_type": "code",
   "execution_count": 48,
   "metadata": {
    "scrolled": true
   },
   "outputs": [
    {
     "data": {
      "text/plain": [
       "array([[False, False, False],\n",
       "       [False, False,  True],\n",
       "       [ True,  True,  True]])"
      ]
     },
     "execution_count": 48,
     "metadata": {},
     "output_type": "execute_result"
    }
   ],
   "source": [
    "a > b"
   ]
  },
  {
   "cell_type": "markdown",
   "metadata": {},
   "source": [
    "#### 부등호를 이용하여 a와 b의 크기비교도 가능하고 결과 값은 array로 나온다."
   ]
  },
  {
   "cell_type": "markdown",
   "metadata": {},
   "source": [
    "### 5.3 Aggregate (sum, min, max, mean, median, std)"
   ]
  },
  {
   "cell_type": "code",
   "execution_count": 49,
   "metadata": {},
   "outputs": [
    {
     "data": {
      "text/plain": [
       "(45, 45)"
      ]
     },
     "execution_count": 49,
     "metadata": {},
     "output_type": "execute_result"
    }
   ],
   "source": [
    "a.sum(), np.sum(a)"
   ]
  },
  {
   "cell_type": "markdown",
   "metadata": {},
   "source": [
    "#### 위의 a의 element를 모두 sum하는 것이며 방법이 2가지이다. sum()기능을 사용하거나 sum()함수를 불러와서 a를 입력값으로 넣어도 된다. 두 가지 다 잘 쓰인다."
   ]
  },
  {
   "cell_type": "code",
   "execution_count": 50,
   "metadata": {},
   "outputs": [
    {
     "data": {
      "text/plain": [
       "(array([12, 15, 18]), array([12, 15, 18]))"
      ]
     },
     "execution_count": 50,
     "metadata": {},
     "output_type": "execute_result"
    }
   ],
   "source": [
    "a.sum(axis=0), np.sum(a, axis=0)"
   ]
  },
  {
   "cell_type": "markdown",
   "metadata": {},
   "source": [
    "#### array행렬에서 한 방향으로 그 방향에 있는 element들을 모두 더하고 싶을 때 쓰는 방법으로 sum에 axis로 축을 선택해준다. 3by3는 축이 가로축, 세로축으로 두 개 이고 0은 row축을 의미하며 세로방향으로 모두 더해서 결과 값이 column의 수만큼 나온다."
   ]
  },
  {
   "cell_type": "code",
   "execution_count": 52,
   "metadata": {},
   "outputs": [
    {
     "data": {
      "text/plain": [
       "(array([ 6, 15, 24]), array([ 6, 15, 24]))"
      ]
     },
     "execution_count": 52,
     "metadata": {},
     "output_type": "execute_result"
    }
   ],
   "source": [
    "a.sum(axis=1), np.sum(a, axis=1)"
   ]
  },
  {
   "cell_type": "markdown",
   "metadata": {},
   "source": [
    "#### axis에서 1은 column축을 의미하며 column축을 기반으로 가로방향으로 모두 더해서 결과 값이 row의 수만큼 나온다."
   ]
  },
  {
   "cell_type": "markdown",
   "metadata": {},
   "source": [
    "## Broadcasting"
   ]
  },
  {
   "cell_type": "code",
   "execution_count": 53,
   "metadata": {},
   "outputs": [
    {
     "data": {
      "text/plain": [
       "array([[ 1,  2,  3,  4,  5,  6],\n",
       "       [ 7,  8,  9, 10, 11, 12],\n",
       "       [13, 14, 15, 16, 17, 18],\n",
       "       [19, 20, 21, 22, 23, 24]])"
      ]
     },
     "execution_count": 53,
     "metadata": {},
     "output_type": "execute_result"
    }
   ],
   "source": [
    "a = np.arange(1, 25).reshape(4, 6)\n",
    "a"
   ]
  },
  {
   "cell_type": "markdown",
   "metadata": {},
   "source": [
    "#### 1~24까지 숫자를 만들어서 나열하고 4by6로 reshape한다."
   ]
  },
  {
   "cell_type": "code",
   "execution_count": 54,
   "metadata": {
    "scrolled": true
   },
   "outputs": [
    {
     "data": {
      "text/plain": [
       "array([[101, 102, 103, 104, 105, 106],\n",
       "       [107, 108, 109, 110, 111, 112],\n",
       "       [113, 114, 115, 116, 117, 118],\n",
       "       [119, 120, 121, 122, 123, 124]])"
      ]
     },
     "execution_count": 54,
     "metadata": {},
     "output_type": "execute_result"
    }
   ],
   "source": [
    "a + 100"
   ]
  },
  {
   "cell_type": "markdown",
   "metadata": {},
   "source": [
    "#### 모든 element에 대해서 100이 더해진다."
   ]
  },
  {
   "cell_type": "code",
   "execution_count": 55,
   "metadata": {},
   "outputs": [
    {
     "data": {
      "text/plain": [
       "array([0, 1, 2, 3, 4, 5])"
      ]
     },
     "execution_count": 55,
     "metadata": {},
     "output_type": "execute_result"
    }
   ],
   "source": [
    "b = np.arange(6)\n",
    "b"
   ]
  },
  {
   "cell_type": "markdown",
   "metadata": {},
   "source": [
    "#### 0~5까지 만들어진다."
   ]
  },
  {
   "cell_type": "code",
   "execution_count": 56,
   "metadata": {},
   "outputs": [
    {
     "data": {
      "text/plain": [
       "array([[ 1,  3,  5,  7,  9, 11],\n",
       "       [ 7,  9, 11, 13, 15, 17],\n",
       "       [13, 15, 17, 19, 21, 23],\n",
       "       [19, 21, 23, 25, 27, 29]])"
      ]
     },
     "execution_count": 56,
     "metadata": {},
     "output_type": "execute_result"
    }
   ],
   "source": [
    "a + b"
   ]
  },
  {
   "cell_type": "markdown",
   "metadata": {},
   "source": [
    "#### a는 4by6의 형태라서 b와 column수가 맞지만 row수가 다르다. 하지만 matrix가 아니라 np의 행렬이기 때문에 row수가 달라도 더하기가 가능하다. b가 a의 각 row마다 더해져서 결과값이 나온다."
   ]
  },
  {
   "cell_type": "code",
   "execution_count": 61,
   "metadata": {},
   "outputs": [
    {
     "data": {
      "text/plain": [
       "array([[0],\n",
       "       [1],\n",
       "       [2],\n",
       "       [3]])"
      ]
     },
     "execution_count": 61,
     "metadata": {},
     "output_type": "execute_result"
    }
   ],
   "source": [
    "c = np.arange(4).reshape([4,1])\n",
    "c"
   ]
  },
  {
   "cell_type": "markdown",
   "metadata": {},
   "source": [
    "#### 0~3까지의 수를 나열한 후 4by1(2차원)로 배열해준다. 만약 이 뒤에 .reshape([1,4])를 덧붙이면 다시 1by4로 재배열된 값이 c에 입력된다. 결론적으로 맨 뒤에 있는 reshape에 따라서 재배열이 되고 만약 reshape(4)을 입력하면 단순 1차원이 되며 bracket이 1개가 된다."
   ]
  },
  {
   "cell_type": "code",
   "execution_count": 62,
   "metadata": {},
   "outputs": [
    {
     "data": {
      "text/plain": [
       "array([[ 1,  2,  3,  4,  5,  6],\n",
       "       [ 8,  9, 10, 11, 12, 13],\n",
       "       [15, 16, 17, 18, 19, 20],\n",
       "       [22, 23, 24, 25, 26, 27]])"
      ]
     },
     "execution_count": 62,
     "metadata": {},
     "output_type": "execute_result"
    }
   ],
   "source": [
    "a + c"
   ]
  },
  {
   "cell_type": "markdown",
   "metadata": {},
   "source": [
    "#### column의 수가 다르지만 row의 수가 같으므로 c가 a의 각 column마다 더해져서 값이 산출된다. matrix가 아니기 때문에 가능하다."
   ]
  }
 ],
 "metadata": {
  "kernelspec": {
   "display_name": "Python 3",
   "language": "python",
   "name": "python3"
  },
  "language_info": {
   "codemirror_mode": {
    "name": "ipython",
    "version": 3
   },
   "file_extension": ".py",
   "mimetype": "text/x-python",
   "name": "python",
   "nbconvert_exporter": "python",
   "pygments_lexer": "ipython3",
   "version": "3.7.1"
  }
 },
 "nbformat": 4,
 "nbformat_minor": 2
}
