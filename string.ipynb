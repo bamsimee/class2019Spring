{
 "cells": [
  {
   "cell_type": "markdown",
   "metadata": {},
   "source": [
    "# 3/14 수업"
   ]
  },
  {
   "cell_type": "code",
   "execution_count": 1,
   "metadata": {},
   "outputs": [
    {
     "name": "stdout",
     "output_type": "stream",
     "text": [
      "a f f a\n",
      "bc bcdef abc abcdef\n"
     ]
    }
   ],
   "source": [
    "s = 'abcdef'\n",
    "print(s[0], s[5], s[-1], s[-6])\n",
    "print(s[1:3], s[1:], s[:3], s[:])"
   ]
  },
  {
   "cell_type": "markdown",
   "metadata": {},
   "source": [
    "#### list와 str은 동일한 방식으로 access가 가능하다. index가 동일하게 적용되고 :를 이용하여 범위를 지정할 수 있다.\n",
    "#### :앞의 index를 포함하여 :뒤의 index의 바로 전까지의 범위를 나타내며 :의 앞이나 뒤에 아무것도 적지 않았을 경우 맨 앞부터, 혹은 맨 뒤까지의 범위를 나타낸다."
   ]
  },
  {
   "cell_type": "code",
   "execution_count": 2,
   "metadata": {},
   "outputs": [
    {
     "name": "stdout",
     "output_type": "stream",
     "text": [
      "100 300 300 100\n",
      "[200] [200, 300] [100, 200] [100, 200, 300]\n"
     ]
    }
   ],
   "source": [
    "n = [100, 200, 300]\n",
    "print(n[0], n[2], n[-1], n[-3])\n",
    "print(n[1:2], n[1:], n[:2], n[:])"
   ]
  },
  {
   "cell_type": "markdown",
   "metadata": {},
   "source": [
    "#### 위의 str와 마찬가지로 적용되며 각 variable단위로 index가 부여된다."
   ]
  },
  {
   "cell_type": "code",
   "execution_count": 5,
   "metadata": {},
   "outputs": [
    {
     "data": {
      "text/plain": [
       "6"
      ]
     },
     "execution_count": 5,
     "metadata": {},
     "output_type": "execute_result"
    }
   ],
   "source": [
    "len(s)"
   ]
  },
  {
   "cell_type": "markdown",
   "metadata": {},
   "source": [
    "#### str s의 길이는 ''안의 character개수가 된다."
   ]
  },
  {
   "cell_type": "code",
   "execution_count": 6,
   "metadata": {},
   "outputs": [
    {
     "data": {
      "text/plain": [
       "'bdefefefefefefefefefef'"
      ]
     },
     "execution_count": 6,
     "metadata": {},
     "output_type": "execute_result"
    }
   ],
   "source": [
    "s[1]+s[3]+s[4:]*10"
   ]
  },
  {
   "cell_type": "markdown",
   "metadata": {},
   "source": [
    "#### str에서 +는 단순히 붙인다는 의미이며 *은 반복을 의미한다.\n",
    " * 따라서 s[4:]*10은 'ef'를 10번 반복하게 된다."
   ]
  },
  {
   "cell_type": "code",
   "execution_count": 7,
   "metadata": {},
   "outputs": [
    {
     "data": {
      "text/plain": [
       "'ABCDEF'"
      ]
     },
     "execution_count": 7,
     "metadata": {},
     "output_type": "execute_result"
    }
   ],
   "source": [
    "s.upper()"
   ]
  },
  {
   "cell_type": "markdown",
   "metadata": {},
   "source": [
    "#### s자체가 class이기 때문에 뒤에 함수를 붙여서 사용할 수 있다. \n",
    "#### upper함수는 대문자로 변형시킨다."
   ]
  },
  {
   "cell_type": "code",
   "execution_count": 26,
   "metadata": {},
   "outputs": [
    {
     "name": "stdout",
     "output_type": "stream",
     "text": [
      "11\n",
      "-1\n"
     ]
    }
   ],
   "source": [
    "s = ' this is a house built this year.\\n'\n",
    "result = s.find('house')\n",
    "print(result)\n",
    "result2=s.find('she')\n",
    "print(result2)"
   ]
  },
  {
   "cell_type": "markdown",
   "metadata": {},
   "source": [
    "#### find함수는 괄호 안의 단어의 시작점index를 가져온다. 따라서 s에 find함수를 적용한 값을 할당한 result값은 11이 된다.\n",
    "#### 만약에 찾는 문자가 str내에 없다면, 'she'를 찾는다면, -1이 출력된다."
   ]
  },
  {
   "cell_type": "code",
   "execution_count": 27,
   "metadata": {},
   "outputs": [
    {
     "name": "stdout",
     "output_type": "stream",
     "text": [
      "1\n",
      "23\n"
     ]
    }
   ],
   "source": [
    "result = s.find('this')\n",
    "print(result)\n",
    "result2=s.rindex('this')\n",
    "print(result2)"
   ]
  },
  {
   "cell_type": "markdown",
   "metadata": {},
   "source": [
    "#### str s에 'this'는 두 번 등장하지만 단순히 'this'를 찾는다면 가장 앞(왼쪽)의 값이 할당된다.\n",
    "#### rindex함수를 사용하면 맨 뒤(오른쪽)부터 find하여 그 단어의 첫 index를 가져온다."
   ]
  },
  {
   "cell_type": "code",
   "execution_count": 30,
   "metadata": {
    "scrolled": true
   },
   "outputs": [
    {
     "ename": "ValueError",
     "evalue": "substring not found",
     "output_type": "error",
     "traceback": [
      "\u001b[1;31m------------------------------------------------------------\u001b[0m",
      "\u001b[1;31mValueError\u001b[0m                 Traceback (most recent call last)",
      "\u001b[1;32m<ipython-input-30-3a76b36d2e63>\u001b[0m in \u001b[0;36m<module>\u001b[1;34m\u001b[0m\n\u001b[1;32m----> 1\u001b[1;33m \u001b[0mresult\u001b[0m\u001b[1;33m=\u001b[0m\u001b[0ms\u001b[0m\u001b[1;33m.\u001b[0m\u001b[0mrindex\u001b[0m\u001b[1;33m(\u001b[0m\u001b[1;34m'z'\u001b[0m\u001b[1;33m)\u001b[0m\u001b[1;33m\u001b[0m\u001b[1;33m\u001b[0m\u001b[0m\n\u001b[0m\u001b[0;32m      2\u001b[0m \u001b[0mresult\u001b[0m\u001b[1;33m\u001b[0m\u001b[1;33m\u001b[0m\u001b[0m\n",
      "\u001b[1;31mValueError\u001b[0m: substring not found"
     ]
    }
   ],
   "source": [
    "result=s.rindex('z')\n",
    "result"
   ]
  },
  {
   "cell_type": "markdown",
   "metadata": {},
   "source": [
    "#### rindex로 str내에 없는 문자를 찾는다면 -1이 출력되는 것이 아니라 valueerror가 일어난다."
   ]
  },
  {
   "cell_type": "code",
   "execution_count": 31,
   "metadata": {},
   "outputs": [
    {
     "data": {
      "text/plain": [
       "'this is a house built this year.'"
      ]
     },
     "execution_count": 31,
     "metadata": {},
     "output_type": "execute_result"
    }
   ],
   "source": [
    "s=s.strip()\n",
    "s"
   ]
  },
  {
   "cell_type": "markdown",
   "metadata": {},
   "source": [
    "#### strip함수는 str에 관련된 함수로서 맨 앞과 뒤의 의미없는 스페이스나 부적절한 문자 등을 지운다. 여기서는 맨 앞의 스페이스와 맨 뒤의 \\n가 지워졌다.\n",
    "##### 함수 등을 사용하거나 값을 할당할 때는 다시 variable로 받아줘야 그 값이 저장된다. 그렇지 않으면 그 값은 계산만 되었을 뿐이다. 여기서는 다시 s에 값을 할당해주었다."
   ]
  },
  {
   "cell_type": "code",
   "execution_count": 32,
   "metadata": {},
   "outputs": [
    {
     "data": {
      "text/plain": [
       "['this', 'is', 'a', 'house', 'built', 'this', 'year.']"
      ]
     },
     "execution_count": 32,
     "metadata": {},
     "output_type": "execute_result"
    }
   ],
   "source": [
    "tokens=s.split(' ')\n",
    "tokens"
   ]
  },
  {
   "cell_type": "markdown",
   "metadata": {},
   "source": [
    "#### split함수는 문장 등의 긴 str을 자르고 싶을 때 사용한다. ('')안에 기준이 될 문자를 넣는다. 쪼개진 요소들은 list로 재입력된다.\n",
    "* 여기서는 스페이스를 기준으로 tokenize되었다."
   ]
  },
  {
   "cell_type": "code",
   "execution_count": 35,
   "metadata": {},
   "outputs": [
    {
     "data": {
      "text/plain": [
       "'this is a house built this year.'"
      ]
     },
     "execution_count": 35,
     "metadata": {},
     "output_type": "execute_result"
    }
   ],
   "source": [
    "s=' '.join(tokens)\n",
    "s"
   ]
  },
  {
   "cell_type": "markdown",
   "metadata": {},
   "source": [
    "#### join함수를 이용하면 ''안의 문자를 기준으로 ()의 list가 str으로 다시 합쳐진다.\n",
    "* 여기서는 스페이스를 기준으로 list tokens를 합쳐서 다시 str s를 이룬다.\n",
    "##### 스페이스는 variable은 아니지만 하나의 class이므로 함수가 적용가능하다."
   ]
  },
  {
   "cell_type": "code",
   "execution_count": 36,
   "metadata": {},
   "outputs": [
    {
     "data": {
      "text/plain": [
       "'that is a house built that year.'"
      ]
     },
     "execution_count": 36,
     "metadata": {},
     "output_type": "execute_result"
    }
   ],
   "source": [
    "s=s.replace('this','that')\n",
    "s"
   ]
  },
  {
   "cell_type": "markdown",
   "metadata": {},
   "source": [
    "#### replace함수는 ,앞의 요소를 ,뒤의 요소로 바꾼다.\n",
    "* str s의 this가 모두 that으로 바뀐다."
   ]
  }
 ],
 "metadata": {
  "kernelspec": {
   "display_name": "Python 3",
   "language": "python",
   "name": "python3"
  },
  "language_info": {
   "codemirror_mode": {
    "name": "ipython",
    "version": 3
   },
   "file_extension": ".py",
   "mimetype": "text/x-python",
   "name": "python",
   "nbconvert_exporter": "python",
   "pygments_lexer": "ipython3",
   "version": "3.7.1"
  }
 },
 "nbformat": 4,
 "nbformat_minor": 2
}
