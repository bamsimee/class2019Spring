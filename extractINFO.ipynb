{
 "cells": [
  {
   "cell_type": "code",
   "execution_count": 14,
   "metadata": {},
   "outputs": [
    {
     "name": "stdout",
     "output_type": "stream",
     "text": [
      "['I', 'am', 'Jhon', 'from', 'America', 'and', 'would', 'like', 'to', 'go', 'to', 'Starbuck']\n",
      "['I', 'am', 'Jhon', 'from', 'America', 'and', 'would', 'like', 'to', 'go', 'to', 'Starbuck']\n"
     ]
    }
   ],
   "source": [
    "import nltk\n",
    "sent = \"I am Jhon from America and would like to go to Starbuck\"\n",
    "token = nltk.word_tokenize(sent)\n",
    "print(token)\n",
    "\n",
    "token1=sent.split()\n",
    "print(token1)"
   ]
  },
  {
   "cell_type": "markdown",
   "metadata": {},
   "source": [
    "#### str을 sent에 받고 단어들을 token화 한다. 여기에는 문장부호가 없으므로 split()함수를 사용해도 같은 결과를 받을 수 있다."
   ]
  },
  {
   "cell_type": "code",
   "execution_count": 15,
   "metadata": {},
   "outputs": [
    {
     "data": {
      "text/plain": [
       "'\\nPOS tag list:\\n\\nCC\\tcoordinating conjunction\\nCD\\tcardinal digit\\nDT\\tdeterminer\\nEX\\texistential there (like: \"there is\" ... think of it like \"there exists\")\\nFW\\tforeign word\\nIN\\tpreposition/subordinating conjunction\\nJJ\\tadjective\\t\\'big\\'\\nJJR\\tadjective, comparative\\t\\'bigger\\'\\nJJS\\tadjective, superlative\\t\\'biggest\\'\\nLS\\tlist marker\\t1)\\nMD\\tmodal\\tcould, will\\nNN\\tnoun, singular \\'desk\\'\\nNNS\\tnoun plural\\t\\'desks\\'\\nNNP\\tproper noun, singular\\t\\'Harrison\\'\\nNNPS\\tproper noun, plural\\t\\'Americans\\'\\nPDT\\tpredeterminer\\t\\'all the kids\\'\\nPOS\\tpossessive ending\\tparent\\'s\\nPRP\\tpersonal pronoun\\tI, he, she\\nPRP$\\tpossessive pronoun\\tmy, his, hers\\nRB\\tadverb\\tvery, silently,\\nRBR\\tadverb, comparative\\tbetter\\nRBS\\tadverb, superlative\\tbest\\nRP\\tparticle\\tgive up\\nTO\\tto\\tgo \\'to\\' the store.\\nUH\\tinterjection\\terrrrrrrrm\\nVB\\tverb, base form\\ttake\\nVBD\\tverb, past tense\\ttook\\nVBG\\tverb, gerund/present participle\\ttaking\\nVBN\\tverb, past participle\\ttaken\\nVBP\\tverb, sing. present, non-3d\\ttake\\nVBZ\\tverb, 3rd person sing. present\\ttakes\\nWDT\\twh-determiner\\twhich\\nWP\\twh-pronoun\\twho, what\\nWP$\\tpossessive wh-pronoun\\twhose\\nWRB\\twh-abverb\\twhere, when\\n'"
      ]
     },
     "execution_count": 15,
     "metadata": {},
     "output_type": "execute_result"
    }
   ],
   "source": [
    "'''\n",
    "POS tag list:\n",
    "\n",
    "CC\tcoordinating conjunction\n",
    "CD\tcardinal digit\n",
    "DT\tdeterminer\n",
    "EX\texistential there (like: \"there is\" ... think of it like \"there exists\")\n",
    "FW\tforeign word\n",
    "IN\tpreposition/subordinating conjunction\n",
    "JJ\tadjective\t'big'\n",
    "JJR\tadjective, comparative\t'bigger'\n",
    "JJS\tadjective, superlative\t'biggest'\n",
    "LS\tlist marker\t1)\n",
    "MD\tmodal\tcould, will\n",
    "NN\tnoun, singular 'desk'\n",
    "NNS\tnoun plural\t'desks'\n",
    "NNP\tproper noun, singular\t'Harrison'\n",
    "NNPS\tproper noun, plural\t'Americans'\n",
    "PDT\tpredeterminer\t'all the kids'\n",
    "POS\tpossessive ending\tparent's\n",
    "PRP\tpersonal pronoun\tI, he, she\n",
    "PRP$\tpossessive pronoun\tmy, his, hers\n",
    "RB\tadverb\tvery, silently,\n",
    "RBR\tadverb, comparative\tbetter\n",
    "RBS\tadverb, superlative\tbest\n",
    "RP\tparticle\tgive up\n",
    "TO\tto\tgo 'to' the store.\n",
    "UH\tinterjection\terrrrrrrrm\n",
    "VB\tverb, base form\ttake\n",
    "VBD\tverb, past tense\ttook\n",
    "VBG\tverb, gerund/present participle\ttaking\n",
    "VBN\tverb, past participle\ttaken\n",
    "VBP\tverb, sing. present, non-3d\ttake\n",
    "VBZ\tverb, 3rd person sing. present\ttakes\n",
    "WDT\twh-determiner\twhich\n",
    "WP\twh-pronoun\twho, what\n",
    "WP$\tpossessive wh-pronoun\twhose\n",
    "WRB\twh-abverb\twhere, when\n",
    "'''"
   ]
  },
  {
   "cell_type": "markdown",
   "metadata": {},
   "source": [
    "#### POS=Part Of Speech(품사)로 단순 9품사 구분보다 더 세분화된 구분이라고 보면 된다. 여기서는 다소 공학적으로 사용되며 각각의 POS정의는 임의적으로, 다르게 내릴 수 있다. 위의 POS구분은 nltk에서 쓰이는 꽤나 standard한 POS이다."
   ]
  },
  {
   "cell_type": "code",
   "execution_count": 16,
   "metadata": {},
   "outputs": [
    {
     "name": "stdout",
     "output_type": "stream",
     "text": [
      "[('I', 'PRP'), ('am', 'VBP'), ('Jhon', 'RB'), ('from', 'IN'), ('America', 'NNP'), ('and', 'CC'), ('would', 'MD'), ('like', 'VB'), ('to', 'TO'), ('go', 'VB'), ('to', 'TO'), ('Starbuck', 'NNP')]\n"
     ]
    }
   ],
   "source": [
    "pos = nltk.pos_tag(token)\n",
    "print(pos)"
   ]
  },
  {
   "cell_type": "markdown",
   "metadata": {},
   "source": [
    "#### nltk에 있는 pos_tag기능을 사용하면 각 item의 POS품사를 찾아준다. 단순 단어의 sequence뿐만 아니라 추가정보를 제공해주는 것이다. 형태는 (단어, POS)의 pairwise된 튜플들로 이루어진 list로 나온다. list로 단순나열을 해도 되지만 수정하거나 왜곡하지 못하도록 정보보호 차원에서 튜플로 묶어주는 것이다."
   ]
  },
  {
   "cell_type": "code",
   "execution_count": 17,
   "metadata": {
    "scrolled": false
   },
   "outputs": [
    {
     "name": "stdout",
     "output_type": "stream",
     "text": [
      "(S\n",
      "  I/PRP\n",
      "  am/VBP\n",
      "  Jhon/RB\n",
      "  from/IN\n",
      "  (GPE America/NNP)\n",
      "  and/CC\n",
      "  would/MD\n",
      "  like/VB\n",
      "  to/TO\n",
      "  go/VB\n",
      "  to/TO\n",
      "  (PERSON Starbuck/NNP))\n"
     ]
    }
   ],
   "source": [
    "NE = nltk.ne_chunk(pos)\n",
    "print(NE)\n",
    "# common Entity types: ORGANIZATION, PERSON, LOCATION, DATE, TIME, MONEY, and GPE (geo-political entity)"
   ]
  },
  {
   "cell_type": "markdown",
   "metadata": {},
   "source": [
    "#### NE는 Named Entity라는 뜻으로 중요정보(주로 명사)를 의미한다. common Named Entity types에는 장소, 조직, 사람이름, 날짜 등등이 해당된다. 문장 속에서 중요정보를 나타내는 것으로 예를들어 '이 근처에 있는 스타벅스 가고싶다.'라면 스타벅스가 NE가 되어 문장의 핵심정보가 될 것이다. 긴 문장에서도 '오늘 중요한 약속 있는데~ ~어쩌고 저쩌고~ ~ 날씨가 어떠려나?'라면 날씨라는 NE를 받아서 날씨 정보를 제공할 수 있어야한다. 이런 식으로 NE를 찾아내는 것은 중요하지만 제일 어려운 과정이다.\n",
    "#### ne_chunk()함수는 nltk에서 제공하는 NE를 자동으로 찾아주는 함수로 POS정보에다가 NE태그를 덧붙여준다. POS태그가 이미 튜플형태로 붙어있는 단어의 list를 입력으로 받는다. 본래 단어와 POS를 /로 구분하여 출력하고 NE에 해당하는 단어는 소괄호로 묶어서 NE태그를 먼저 명시해준다. America에 GPE라는 지역NE태그가 붙었고 Starbuck에는 틀리긴 했지만 PERSON이라고 사람이름NE태그가 붙었다."
   ]
  },
  {
   "cell_type": "markdown",
   "metadata": {},
   "source": [
    "자연어처리(nlp)에서 highlevel기술 중 하나가 NE와 intention을 뽑는 것이다. 예를 들어 '여기서 제일 가까운 스타벅스 찾아줘.' 하면 스벅(명사와 관련)과 '무엇을 하고 싶다'에 해당하는 intention정보가 와야한다. intetnion은 동사와 관련있다. 여기서는 '찾다'라는 동사가 intention이 된다. '주문해줘' 등등이 또다른 예시가 될 수 있다.\n",
    "비정형의 sentence에서 정형화된 정보를 뽑아오는 과정이 중요하다. 이 정형화된 정보가 하나는 NE이고 하나는 intention이다. \n",
    "두 가지 기법이 있다. 1.노가다-리스트를 모두 다 받아놓는 것(rule based - 모든 경로를 다 넣어줌. 안 넣은 건 못 찾음. 못 하는 건 못 한다고 말하니까 틀릴가능성 제로임 / 2.머신러닝 인공지능 - '이럴 경우~ 이렇게 해라' 하는 것들을 넣어주긴 하지만 아닌 경우도 찾을 수 있게 한다. - 확률기반이라 틀릴가능성 있다.)\n",
    "따라서 인공지능은 틀릴 확률이 있기 때문에 항공관련, 의료관련에 들어가기 어렵다. 자율주행도 어렵다."
   ]
  }
 ],
 "metadata": {
  "kernelspec": {
   "display_name": "Python 3",
   "language": "python",
   "name": "python3"
  },
  "language_info": {
   "codemirror_mode": {
    "name": "ipython",
    "version": 3
   },
   "file_extension": ".py",
   "mimetype": "text/x-python",
   "name": "python",
   "nbconvert_exporter": "python",
   "pygments_lexer": "ipython3",
   "version": "3.7.1"
  }
 },
 "nbformat": 4,
 "nbformat_minor": 2
}
